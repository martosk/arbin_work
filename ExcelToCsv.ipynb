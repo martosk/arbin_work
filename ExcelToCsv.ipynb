{
 "cells": [
  {
   "cell_type": "code",
   "execution_count": 122,
   "id": "normal-richardson",
   "metadata": {},
   "outputs": [],
   "source": [
    "# import necessary libraries\n",
    "import pandas as pd\n",
    "import os\n",
    "from os import path\n",
    "import glob"
   ]
  },
  {
   "cell_type": "code",
   "execution_count": 148,
   "id": "fifth-baghdad",
   "metadata": {},
   "outputs": [
    {
     "data": {
      "text/plain": [
       "['C:\\\\scripts_marte\\\\raw\\\\20210430_seam10_01_01_cc_01_2021_04_30_172207\\\\20210430_seam10_01_01_cc_01_Channel_48_Wb_1.xlsx',\n",
       " 'C:\\\\scripts_marte\\\\raw\\\\20210430_seam10_01_01_cc_02_2021_05_17_204029\\\\20210430_seam10_01_01_cc_02_Channel_48_Wb_1.xlsx']"
      ]
     },
     "execution_count": 148,
     "metadata": {},
     "output_type": "execute_result"
    }
   ],
   "source": [
    "# using glob to find all files with .xlsx ending in folder and subfolders\n",
    "excel_files = glob.glob(os.path.join(r\"C:\\scripts_marte\\raw\\*\\*.xlsx\"))\n",
    "excel_files"
   ]
  },
  {
   "cell_type": "markdown",
   "id": "measured-heating",
   "metadata": {},
   "source": [
    "#### For å loope gjennom mange filer"
   ]
  },
  {
   "cell_type": "code",
   "execution_count": 149,
   "id": "municipal-tucson",
   "metadata": {},
   "outputs": [],
   "source": [
    "# Vil ha ending .xlsx.csv, men det gjør ikke noe.\n",
    "for i in excel_files:\n",
    "    df = pd.read_excel(i, sheet_name=1)\n",
    "    \n",
    "    df.to_csv(\"{}.csv\".format(i), index=False)"
   ]
  },
  {
   "cell_type": "markdown",
   "id": "conservative-worse",
   "metadata": {},
   "source": [
    "#### Om en spesifikk fil skal eksporteres, må den letes opp i listen med råfiler kan eksporteres direkte. Må da huske å endre navn på filen under to_csv."
   ]
  },
  {
   "cell_type": "code",
   "execution_count": 126,
   "id": "controlling-lawyer",
   "metadata": {},
   "outputs": [
    {
     "data": {
      "text/plain": [
       "'C:\\\\scripts_marte\\\\raw\\\\20210430_seam10_01_01_cc_01_2021_04_30_172207\\\\20210430_seam10_01_01_cc_01_Channel_48_Wb_1.xlsx'"
      ]
     },
     "execution_count": 126,
     "metadata": {},
     "output_type": "execute_result"
    }
   ],
   "source": [
    "# find the name of a specific file in this list\n",
    "excel_files[0]"
   ]
  },
  {
   "cell_type": "code",
   "execution_count": 146,
   "id": "monthly-choice",
   "metadata": {},
   "outputs": [],
   "source": [
    "# make dataframe based on sheet 1 (0 indexed) in xlsx-file\n",
    "df = pd.read_excel(excel_files[0], sheet_name=1)\n",
    "\n",
    "# remove the cycle_index 4 on all cc_01 files, as this is wrong in the program\n",
    "df.drop(df.loc[df['Cycle_Index']==4].index, inplace=True)\n",
    "\n",
    "# export df to a csv file, without the index-column. Will save in same folder as the script is working in\n",
    "df.to_csv(r\"C:\\scripts_marte\\python_csv\\20210430_seam10_01_01_cc_01_Channel_48_Wb_1.csv\", index=False)"
   ]
  },
  {
   "cell_type": "code",
   "execution_count": 21,
   "id": "dried-chess",
   "metadata": {},
   "outputs": [],
   "source": []
  },
  {
   "cell_type": "code",
   "execution_count": null,
   "id": "geographic-status",
   "metadata": {},
   "outputs": [],
   "source": []
  },
  {
   "cell_type": "code",
   "execution_count": null,
   "id": "intense-stationery",
   "metadata": {},
   "outputs": [],
   "source": []
  },
  {
   "cell_type": "code",
   "execution_count": null,
   "id": "independent-market",
   "metadata": {},
   "outputs": [],
   "source": []
  }
 ],
 "metadata": {
  "kernelspec": {
   "display_name": "Python 3",
   "language": "python",
   "name": "python3"
  },
  "language_info": {
   "codemirror_mode": {
    "name": "ipython",
    "version": 3
   },
   "file_extension": ".py",
   "mimetype": "text/x-python",
   "name": "python",
   "nbconvert_exporter": "python",
   "pygments_lexer": "ipython3",
   "version": "3.8.8"
  }
 },
 "nbformat": 4,
 "nbformat_minor": 5
}
